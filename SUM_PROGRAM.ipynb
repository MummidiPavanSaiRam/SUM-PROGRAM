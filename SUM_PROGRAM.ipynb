{
  "nbformat": 4,
  "nbformat_minor": 0,
  "metadata": {
    "colab": {
      "provenance": []
    },
    "kernelspec": {
      "name": "python3",
      "display_name": "Python 3"
    },
    "language_info": {
      "name": "python"
    }
  },
  "cells": [
    {
      "cell_type": "code",
      "execution_count": 8,
      "metadata": {
        "colab": {
          "base_uri": "https://localhost:8080/"
        },
        "id": "1EjbEybRtErs",
        "outputId": "e7bda085-3102-4d93-c316-bd5fda5ed9f9"
      },
      "outputs": [
        {
          "output_type": "stream",
          "name": "stdout",
          "text": [
            "enter numbers for sum or 'x' to stop the code:10\n",
            "enter numbers for sum or 'x' to stop the code:10\n",
            "enter numbers for sum or 'x' to stop the code:X\n",
            "The sum of numbers: 20\n"
          ]
        }
      ],
      "source": [
        "#Keep taking numbers as inputs till the user enters ‘x’, after that print sum of all.\n",
        "numbers=0\n",
        "\n",
        "while True:\n",
        "  input1=input(\"enter numbers for sum or 'x' to stop the code:\")\n",
        "  if input1.lower()== \"x\":\n",
        "    break\n",
        "  if input1.isdigit():\n",
        "    numbers+=int(input1)\n",
        "  else:\n",
        "    print(\"invalid input or enter the number\")\n",
        "print(\"The sum of numbers:\",numbers)\n",
        "\n",
        "\n",
        "\n"
      ]
    },
    {
      "cell_type": "code",
      "source": [],
      "metadata": {
        "id": "AxDKV9H-twSS"
      },
      "execution_count": null,
      "outputs": []
    }
  ]
}